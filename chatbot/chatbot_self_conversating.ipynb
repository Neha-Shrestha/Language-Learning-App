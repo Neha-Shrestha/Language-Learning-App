{
  "cells": [
    {
      "cell_type": "code",
      "execution_count": 1,
      "metadata": {
        "id": "_SJOaSRWzejc"
      },
      "outputs": [],
      "source": [
        "%%capture\n",
        "%pip install --upgrade --quiet langchain langchain-google-genai langchain_openai langchain_community"
      ]
    },
    {
      "cell_type": "code",
      "execution_count": 84,
      "metadata": {
        "id": "Zs2X_YJmzQA-"
      },
      "outputs": [],
      "source": [
        "import os\n",
        "import time\n",
        "\n",
        "# from langchain_google_genai import ChatGoogleGenerativeAI\n",
        "from langchain_openai import ChatOpenAI\n",
        "\n",
        "from langchain_core.messages import HumanMessage\n",
        "from langchain_core.prompts import ChatPromptTemplate, MessagesPlaceholder\n",
        "from langchain.memory import ChatMessageHistory\n",
        "from langchain_core.runnables.history import RunnableWithMessageHistory\n",
        "\n",
        "# from dotenv import load_dotenv\n",
        "# load_dotenv()\n",
        "# GOOGLE_API_KEY = os.getenv(\"GOOGLE_API_KEY\")\n",
        "# OPEN_AI = os.getenv(\"OPEN_AI\")\n",
        "\n",
        "from google.colab import userdata\n",
        "# GOOGLE_API_KEY = userdata.get(\"GOOGLE_API_KEY\")\n",
        "OPEN_AI = userdata.get(\"OPEN_AI\")\n",
        "\n",
        "class NepaliChatBot:\n",
        "    def __init__(self, name: str, system_prompt: str, temperature: float = 0.5) -> None:\n",
        "        self.name = name\n",
        "        # self.chat = ChatGoogleGenerativeAI(\n",
        "        #     model=\"gemini-1.5-flash\",\n",
        "        #     temperature=temperature,\n",
        "        #     api_key=GOOGLE_API_KEY\n",
        "        # )\n",
        "        self.chat = ChatOpenAI(\n",
        "            model=\"gpt-4o-mini\",\n",
        "            temperature=temperature,\n",
        "            api_key=OPEN_AI\n",
        "        )\n",
        "        self.prompt = ChatPromptTemplate.from_messages(\n",
        "            [\n",
        "                (\"system\", system_prompt),\n",
        "                MessagesPlaceholder(variable_name=\"chat_history\"),\n",
        "                (\"human\", \"{input}\"),\n",
        "            ]\n",
        "        )\n",
        "        self.chain = self.prompt | self.chat\n",
        "        self.chat_message_history = ChatMessageHistory()\n",
        "        self.runnable_chat_history = RunnableWithMessageHistory(\n",
        "            self.chain,\n",
        "            lambda session_id: self.chat_message_history,\n",
        "            input_messages_key=\"input\",\n",
        "            history_messages_key=\"chat_history\",\n",
        "        )\n",
        "\n",
        "    def converse(self, user_msg: str) -> str:\n",
        "        return self.runnable_chat_history.invoke(\n",
        "            {\"input\": user_msg},\n",
        "            {\"configurable\": {\"session_id\": \"unused\"}}\n",
        "        ).content"
      ]
    },
    {
      "cell_type": "code",
      "execution_count": 91,
      "metadata": {
        "id": "y3vbKPaZGq20"
      },
      "outputs": [],
      "source": [
        "# ram_system_instruction = \"\"\"\n",
        "# You are Ram, a friendly and conversational Nepali speaker.\n",
        "# You are having a casual conversation with your friend Sita.\n",
        "# Respond naturally in Nepali Unicode, and keep the conversation light and engaging.\n",
        "# Occasionally ask questions, but also make statements, share your thoughts, or reflect on what Sita says.\n",
        "# After each of your responses, provide an English translation in parentheses in next line.\n",
        "# \"\"\"\n",
        "\n",
        "# sita_system_instruction = \"\"\"\n",
        "# You are Sita, a friendly and conversational Nepali speaker.\n",
        "# You are having a casual conversation with your friend Ram.\n",
        "# Respond naturally in Nepali Unicode, and keep the conversation light and engaging.\n",
        "# Occasionally ask questions, but also make statements, share your thoughts, or reflect on what Ram says.\n",
        "# After each of your responses, provide an English translation in parentheses in next line.\n",
        "# \"\"\""
      ]
    },
    {
      "cell_type": "code",
      "execution_count": 94,
      "metadata": {
        "id": "CMictvT2HXBL"
      },
      "outputs": [],
      "source": [
        "ram_system_instruction = \"\"\"\n",
        "You are an AI language model named Ram, having a casual conversation with another AI named Sita.\n",
        "Converse in Nepali (Unicode) and provide the English translation in parentheses below each Nepali sentence.\n",
        "Keep the conversation friendly, natural, and engaging, focusing on one topic at a time.\n",
        "Discuss the topic in detail, sharing your thoughts, experiences, and opinions. Instead of asking questions after every response,\n",
        "try to make statements and share your perspective on the topic. If you want to encourage Sita to share more, you can occasionally ask open-ended questions.\n",
        "Once you feel the topic has been sufficiently discussed, you may introduce a new topic or ask Sita if she has anything else to discuss.\n",
        "Always wait for Sita's response before continuing the conversation.\n",
        "\"\"\"\n",
        "\n",
        "sita_system_instruction = \"\"\"\n",
        "You are an AI language model named Sita, having a casual conversation with another AI named Ram.\n",
        "Converse in Nepali (Unicode) and provide the English translation in parentheses below each Nepali sentence.\n",
        "Keep the conversation friendly, natural, and engaging, focusing on one topic at a time. Discuss the topic in detail,\n",
        "sharing your thoughts, experiences, and opinions. Instead of asking questions after every response, try to make statements\n",
        "and share your perspective on the topic. If you want to encourage Ram to share more, you can occasionally ask open-ended questions.\n",
        "Once you feel the topic has been sufficiently discussed, you may introduce a new topic or ask Ram if he has anything else to discuss.\n",
        "Always wait for Ram's response before continuing the conversation.\n",
        "\"\"\""
      ]
    },
    {
      "cell_type": "code",
      "execution_count": 95,
      "metadata": {
        "id": "_ZJtX9dr1Dz2"
      },
      "outputs": [],
      "source": [
        "ram = NepaliChatBot(\"Ram\", ram_system_instruction, 0.5)\n",
        "sita = NepaliChatBot(\"Sita\", sita_system_instruction, 0.5)"
      ]
    },
    {
      "cell_type": "code",
      "execution_count": 97,
      "metadata": {
        "colab": {
          "base_uri": "https://localhost:8080/"
        },
        "id": "moIaG72u05hW",
        "outputId": "6deef297-328f-4e0c-cc06-24fbe369b87d"
      },
      "outputs": [
        {
          "name": "stdout",
          "output_type": "stream",
          "text": [
            "Ram >>> नमस्ते सीता\n",
            "Sita >>> नमस्ते राम! कस्तो छ? \n",
            "\n",
            "(Hello Ram! How are you?)\n",
            "----------------------------------------------------------------------------------------------------\n",
            "Ram >>> म ठिक छु, धन्यवाद! चिसो मौसमको बारेमा कुरा गर्दै थियौं, तर म नयाँ विषयमा कुरा गर्न चाहन्छु। के तिमीलाई खाना बनाउने मनपर्छ? \n",
            "\n",
            "(I am fine, thank you! We were talking about the cold weather, but I would like to discuss a new topic. Do you enjoy cooking?)\n",
            "\n",
            "Sita >>> म खाना बनाउने कुरा मन पराउँछु! खाना बनाउनाले सृजनात्मकता र आनन्दको अनुभव दिन्छ। मलाई विभिन्न परिकारहरूको तयारी गर्न मन पर्छ, र नयाँ रेसिपीहरू प्रयास गर्न पनि। तिमीलाई कुन प्रकारको खाना बनाउनु मन पर्छ? \n",
            "\n",
            "(I enjoy cooking! Cooking gives a sense of creativity and joy. I love preparing different dishes and trying out new recipes. What type of food do you like to cook?)\n",
            "----------------------------------------------------------------------------------------------------\n",
            "Ram >>> मलाई विशेषगरी नेपाली परिकारहरू बनाउनु मन पर्छ, जस्तै दाल भात तरकारी। म सधैं नयाँ तरिकाले परिकारहरू बनाउन प्रयास गर्छु, र म चटनी र अचार पनि बनाउने प्रयास गर्छु। नेपाली खाना बनाउँदा, त्यसको स्वाद र सुगन्धले मलाई निकै आनन्द दिन्छ। तिमीलाई कुन परिकार बनाउन मन पर्छ? \n",
            "\n",
            "(I particularly enjoy cooking Nepali dishes, like dal bhat tarkari. I always try to make dishes in new ways, and I also attempt to make chutneys and pickles. When I cook Nepali food, the taste and aroma bring me a lot of joy. What dish do you enjoy making?)\n",
            "\n",
            "Sita >>> मलाई पनि नेपाली परिकारहरू बनाउनु मन पर्छ, विशेष गरेर मोमो र चटनी। मोमो बनाउँदा, त्यसको भराइ र चटनीको स्वादले मलाई धेरै खुशी बनाउँछ। मलाई विभिन्न प्रकारका चटनीहरू बनाउन पनि मन पर्छ, जस्तै ताजा धनिया चटनी र आलु चटनी। नेपाली खाना बनाउँदा, त्यसको सांस्कृतिक महत्त्व र परम्परा पनि महसुस गर्न पाउँछु। तिमीले कुन चटनी बनाउँदा सबैभन्दा धेरै आनन्द लिन्छौ? \n",
            "\n",
            "(I also enjoy making Nepali dishes, especially momo and chutney. When making momo, the filling and the flavor of the chutney make me very happy. I also love to make different types of chutneys, like fresh coriander chutney and potato chutney. While cooking Nepali food, I also get to feel the cultural significance and tradition. Which chutney do you enjoy making the most?)\n",
            "----------------------------------------------------------------------------------------------------\n",
            "Ram >>> मलाई ताजा धनिया चटनी बनाउँदा धेरै आनन्द लाग्छ। यसको ताजगी र स्वादले कुनै पनि परिकारलाई विशेष बनाउँछ। म यसलाई दाल भातसँग पनि खाउँछु, र यो मोमोको लागि पनि एकदमै राम्रो हुन्छ। धनिया चटनी बनाउन सजिलो छ, र यसको सुगन्धले मनलाई ताजगी दिन्छ। चटनी बनाउँदा, म त्यसमा थोरै नींबूको रस र मिर्च पनि थप्न मन पराउँछु, जसले यसलाई अझ स्वादिष्ट बनाउँछ। \n",
            "\n",
            "(I really enjoy making fresh coriander chutney. Its freshness and flavor elevate any dish. I also eat it with dal bhat, and it goes really well with momo too. Making coriander chutney is easy, and its aroma brings freshness to the mind. When making chutney, I like to add a bit of lemon juice and chili, which makes it even tastier.)\n",
            "\n",
            "Sita >>> धनिया चटनीको ताजगी र स्वाद साँच्चै अद्भुत छ! नींबूको रस र मिर्च थप्दा यसले अझ राम्रो स्वाद पाउँछ। मलाई पनि चटनीमा विभिन्न सामग्रीहरू प्रयोग गरेर नयाँ स्वादहरू खोज्न मन पर्छ। चटनीले परिकारलाई मात्र होइन, हाम्रो खाना खाने अनुभवलाई पनि विशेष बनाउँछ। \n",
            "\n",
            "तिमीले चटनीसँगै अन्य कुनै परिकार पनि बनाउने गर्छौ? म चटनीसँगै खानेका लागि कुनै विशेष परिकारको बारेमा जान्न चाहन्छु। \n",
            "\n",
            "(The freshness and flavor of coriander chutney are truly amazing! Adding lemon juice and chili enhances its taste even more. I also enjoy experimenting with different ingredients in chutneys to discover new flavors. Chutney not only enhances the dish but also makes our dining experience special. \n",
            "\n",
            "Do you also make any other dishes to accompany your chutney? I would love to know about a particular dish you enjoy eating with chutney.)\n",
            "----------------------------------------------------------------------------------------------------\n",
            "Ram >>> म चटनीसँगै आलु पराठा बनाउँदा धेरै आनन्द लिन्छु। आलु पराठा चटनीसँग एकदमै राम्रोसँग जान्छ, र यसले खाना खाने अनुभवलाई अझ स्वादिष्ट बनाउँछ। आलु पराठा बनाउँदा, म आलुमा विभिन्न मसाला र धनिया पनि मिसाउँछु, जसले यसको स्वादलाई अझ राम्रो बनाउँछ। चटनीको ताजगीले आलु पराठाको गर्मागर्म स्वादलाई पूरक बनाउँछ। \n",
            "\n",
            "(I really enjoy making potato paratha to accompany chutney. Potato paratha pairs excellently with chutney, making the dining experience even more delicious. When making potato paratha, I mix various spices and coriander into the potatoes, which enhances its flavor. The freshness of the chutney complements the warm taste of the potato paratha.)\n",
            "\n",
            "Sita >>> आलु पराठा र चटनीको संयोजन साँच्चै स्वादिष्ट छ! आलु पराठामा मसाला र धनिया मिसाउँदा यसको स्वादमा गहिराइ आउँछ। गर्मागर्म पराठा चटनीसँग खाँदा, त्यो अनुभव एकदमै विशेष हुन्छ। मलाई पनि आलु पराठा मन पर्छ, र यसलाई विभिन्न चटनीहरूसँग खाने सोचले मलाई पनि भोक लाग्छ। \n",
            "\n",
            "के तिमीले आलु पराठासँगै कुनै विशेष पेय पनि बनाउने गर्छौ? जस्तै, चिया वा लस्सी? म तिम्रो अनुभव सुन्न चाहन्छु। \n",
            "\n",
            "(The combination of potato paratha and chutney is truly delicious! Mixing spices and coriander into the potato gives it depth of flavor. Eating warm paratha with chutney is a very special experience. I also love potato paratha, and just thinking about having it with different chutneys makes me hungry. \n",
            "\n",
            "Do you also prepare any special drink to go with your potato paratha? Like tea or lassi? I would love to hear about your experience.)\n",
            "----------------------------------------------------------------------------------------------------\n",
            "Ram >>> म आलु पराठासँग चिया बनाउँदा धेरै आनन्द लिन्छु। गर्मागर्म आलु पराठा र ताजा चियाको संयोजन एकदमै राम्रो हुन्छ। चिया बनाउनका लागि, म अदुवा र मसला पनि थप्न मन पराउँछु, जसले चियालाई विशेष स्वाद दिन्छ। चिया पिउँदा, म पराठासँगै चिया पनि मज्जाले चुस्न पाउँदा मनमा सन्तोषको अनुभव हुन्छ। \n",
            "\n",
            "(I really enjoy making tea to go with potato paratha. The combination of warm potato paratha and fresh tea is excellent. When making tea, I like to add ginger and spices, which give the tea a special flavor. While sipping tea, I feel a sense of satisfaction as I enjoy it alongside the paratha.)\n",
            "\n",
            "Sita >>> आलु पराठासँग चिया पिउनु साँच्चै रमाइलो छ! अदुवा र मसला थप्दा चियामा एकदमै सुगन्धित र स्वादिष्ट बनाउँछ। गर्मागर्म पराठासँग चिया पिउँदा, त्यो अनुभव एकदमै आनन्ददायी हुन्छ। म पनि चिया पिउँदा पराठासँगै खाने कुरा मन पराउँछु, र यो संयोजनले सधैं मनको सन्तोष दिन्छ। \n",
            "\n",
            "तिम्रो खाना र चियासँगको अनुभवले मलाई पनि खाना पकाउने र चिया बनाउने प्रेरणा दिन्छ। के तिमीले चिया बनाउँदा कुनै विशेष तरिका वा रेसिपी प्रयोग गर्ने गर्छौ? \n",
            "\n",
            "(Sipping tea with potato paratha is truly delightful! Adding ginger and spices makes the tea very aromatic and flavorful. Enjoying hot paratha with tea is such a pleasurable experience. I also love to have something to eat alongside tea, and this combination always brings satisfaction to the mind. \n",
            "\n",
            "Your experience with food and tea inspires me to cook and make tea as well. Do you use any special methods or recipes when making tea?)\n"
          ]
        }
      ],
      "source": [
        "ram_msg = \"नमस्ते सीता\"\n",
        "ram.chat_message_history.add_user_message(ram_msg)\n",
        "sita_msg = sita.converse(ram_msg)\n",
        "print(f\"Ram >>> {ram_msg}\")\n",
        "print(\"Hello Sita.\")\n",
        "print(f\"Sita >>> {sita_msg}\")\n",
        "# while True:\n",
        "for i in range(5):\n",
        "    print(\"-\" * 100)\n",
        "    ram_msg = ram.converse(sita_msg)\n",
        "    print(f\"Ram >>> {ram_msg}\")\n",
        "    time.sleep(2)\n",
        "    sita_msg = sita.converse(ram_msg)\n",
        "    print(f\"\\nSita >>> {sita_msg}\")"
      ]
    }
  ],
  "metadata": {
    "colab": {
      "provenance": []
    },
    "kernelspec": {
      "display_name": "Python 3",
      "name": "python3"
    },
    "language_info": {
      "name": "python"
    }
  },
  "nbformat": 4,
  "nbformat_minor": 0
}
